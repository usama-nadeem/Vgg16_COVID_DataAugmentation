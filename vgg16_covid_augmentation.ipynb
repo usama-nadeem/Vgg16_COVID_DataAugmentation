{
  "nbformat": 4,
  "nbformat_minor": 0,
  "metadata": {
    "colab": {
      "name": "vgg16_covid.ipynb",
      "provenance": [],
      "collapsed_sections": [],
      "authorship_tag": "ABX9TyNm0BfYkVuoSaiGaVZZs39U",
      "include_colab_link": true
    },
    "kernelspec": {
      "name": "python3",
      "display_name": "Python 3"
    },
    "accelerator": "GPU"
  },
  "cells": [
    {
      "cell_type": "markdown",
      "metadata": {
        "id": "view-in-github",
        "colab_type": "text"
      },
      "source": [
        "<a href=\"https://colab.research.google.com/github/usama-nadeem/Vgg16_COVID_DataAugmentation/blob/main/vgg16_covid_augmentation.ipynb\" target=\"_parent\"><img src=\"https://colab.research.google.com/assets/colab-badge.svg\" alt=\"Open In Colab\"/></a>"
      ]
    },
    {
      "cell_type": "code",
      "metadata": {
        "id": "_f0SYrI6dsvd",
        "colab": {
          "base_uri": "https://localhost:8080/"
        },
        "outputId": "06a414f5-740d-4dbd-d9a0-8a98b560086a"
      },
      "source": [
        "!wget https://www.dropbox.com/s/9w8nmj791c9ogsx/data_upload_v3.zip?dl=0"
      ],
      "execution_count": null,
      "outputs": [
        {
          "output_type": "stream",
          "text": [
            "--2021-02-08 12:29:00--  https://www.dropbox.com/s/9w8nmj791c9ogsx/data_upload_v3.zip?dl=0\n",
            "Resolving www.dropbox.com (www.dropbox.com)... 162.125.82.18, 2620:100:6032:18::a27d:5212\n",
            "Connecting to www.dropbox.com (www.dropbox.com)|162.125.82.18|:443... connected.\n",
            "HTTP request sent, awaiting response... 301 Moved Permanently\n",
            "Location: /s/raw/9w8nmj791c9ogsx/data_upload_v3.zip [following]\n",
            "--2021-02-08 12:29:01--  https://www.dropbox.com/s/raw/9w8nmj791c9ogsx/data_upload_v3.zip\n",
            "Reusing existing connection to www.dropbox.com:443.\n",
            "HTTP request sent, awaiting response... 302 Found\n",
            "Location: https://uc310b55d5a0e18a24277f5a1d05.dl.dropboxusercontent.com/cd/0/inline/BIiamsf4B1rJN1pVgTvNSOihtye-lgU0RMUN2EHEpLYbY__n914aJq_MHE6Y_jIBoZbO1BUph_8E0Tq1PXyPCIJdFFv8DzRkj3bgbruJu8b_BB_E2TVaJRCRgsjpXcTdwNA/file# [following]\n",
            "--2021-02-08 12:29:01--  https://uc310b55d5a0e18a24277f5a1d05.dl.dropboxusercontent.com/cd/0/inline/BIiamsf4B1rJN1pVgTvNSOihtye-lgU0RMUN2EHEpLYbY__n914aJq_MHE6Y_jIBoZbO1BUph_8E0Tq1PXyPCIJdFFv8DzRkj3bgbruJu8b_BB_E2TVaJRCRgsjpXcTdwNA/file\n",
            "Resolving uc310b55d5a0e18a24277f5a1d05.dl.dropboxusercontent.com (uc310b55d5a0e18a24277f5a1d05.dl.dropboxusercontent.com)... 162.125.82.15, 2620:100:6032:15::a27d:520f\n",
            "Connecting to uc310b55d5a0e18a24277f5a1d05.dl.dropboxusercontent.com (uc310b55d5a0e18a24277f5a1d05.dl.dropboxusercontent.com)|162.125.82.15|:443... connected.\n",
            "HTTP request sent, awaiting response... 302 Found\n",
            "Location: /cd/0/inline2/BIiW8ZCp1VovSoTnHrP9yhV-NxwifT_8t4dyZ_3nOcqc69nOHkUAnzG-3vhxnbXQrzNfBC7X8tgpzC966wazjO2RitvfCyZTF8C8K0XFh1-VZXgFGRDNLq60e5RKpkSVqWqjom4BbRFNrbJNK3eavjnwPLjB4ZaK7nmwJeV7NwYkLPBVov63rtf0inIeXvcwOrohq5cGTXbpw5yyVxVqRtsjwjBgqcTMBNpA-Ruml44VBghXFraMdtMnIx4plm0ORHKby_6DPxoPXkOP4cc65_3NRnz1qBewfQ467kmkcVCeu1Z9Akl66XBiLNLiuKI2WYccUNawmfosbHTnhTgmBBspkL_yZKLjh_PwBoUY0TUtew/file [following]\n",
            "--2021-02-08 12:29:02--  https://uc310b55d5a0e18a24277f5a1d05.dl.dropboxusercontent.com/cd/0/inline2/BIiW8ZCp1VovSoTnHrP9yhV-NxwifT_8t4dyZ_3nOcqc69nOHkUAnzG-3vhxnbXQrzNfBC7X8tgpzC966wazjO2RitvfCyZTF8C8K0XFh1-VZXgFGRDNLq60e5RKpkSVqWqjom4BbRFNrbJNK3eavjnwPLjB4ZaK7nmwJeV7NwYkLPBVov63rtf0inIeXvcwOrohq5cGTXbpw5yyVxVqRtsjwjBgqcTMBNpA-Ruml44VBghXFraMdtMnIx4plm0ORHKby_6DPxoPXkOP4cc65_3NRnz1qBewfQ467kmkcVCeu1Z9Akl66XBiLNLiuKI2WYccUNawmfosbHTnhTgmBBspkL_yZKLjh_PwBoUY0TUtew/file\n",
            "Reusing existing connection to uc310b55d5a0e18a24277f5a1d05.dl.dropboxusercontent.com:443.\n",
            "HTTP request sent, awaiting response... 200 OK\n",
            "Length: 367830548 (351M) [application/zip]\n",
            "Saving to: ‘data_upload_v3.zip?dl=0’\n",
            "\n",
            "data_upload_v3.zip? 100%[===================>] 350.79M  13.5MB/s    in 23s     \n",
            "\n",
            "2021-02-08 12:29:25 (15.4 MB/s) - ‘data_upload_v3.zip?dl=0’ saved [367830548/367830548]\n",
            "\n"
          ],
          "name": "stdout"
        }
      ]
    },
    {
      "cell_type": "code",
      "metadata": {
        "id": "lNGBiBvteCwz"
      },
      "source": [
        "import os\r\n",
        "import cv2\r\n",
        "import numpy as np\r\n",
        "from imutils import paths\r\n",
        "from sklearn.preprocessing import LabelBinarizer\r\n",
        "from tqdm import tqdm\r\n",
        "import pathlib\r\n",
        "import tensorflow as tf\r\n",
        "import tensorflow_datasets as tfds \r\n",
        "from tensorflow.keras.preprocessing.image import ImageDataGenerator\r\n",
        "from sklearn.model_selection import train_test_split\r\n",
        "from keras.layers import Activation, Dense\r\n",
        "from keras.optimizers import SGD, Adam, RMSprop\r\n",
        "from keras.preprocessing.image import ImageDataGenerator,load_img, img_to_array\r\n",
        "from keras.models import Sequential, Model\r\n",
        "from keras.layers import Conv2D, MaxPooling2D,GlobalAveragePooling2D\r\n",
        "from keras.layers import Activation, Dropout, BatchNormalization, Flatten, Dense, AvgPool2D,MaxPool2D\r\n",
        "from keras.models import Sequential, Model\r\n",
        "from keras.applications.vgg16 import VGG16, preprocess_input\r\n"
      ],
      "execution_count": null,
      "outputs": []
    },
    {
      "cell_type": "code",
      "metadata": {
        "id": "vwK9GY_GeUMI"
      },
      "source": [
        "!unzip data_upload_v3.zip"
      ],
      "execution_count": null,
      "outputs": []
    },
    {
      "cell_type": "code",
      "metadata": {
        "colab": {
          "base_uri": "https://localhost:8080/"
        },
        "id": "o6U5_3IXeq8f",
        "outputId": "f1449996-71e5-4f12-dcd0-719027045c4f"
      },
      "source": [
        "!ls"
      ],
      "execution_count": null,
      "outputs": [
        {
          "output_type": "stream",
          "text": [
            "data_upload_v3\tdata_upload_v3.zip  sample_data\n"
          ],
          "name": "stdout"
        }
      ]
    },
    {
      "cell_type": "code",
      "metadata": {
        "id": "kE-Ozv0_uSOe"
      },
      "source": [
        "def load_images_from_folder(folder):\r\n",
        "    print(\"Loading from folder: \", os.path.basename(folder))\r\n",
        "    images = []\r\n",
        "    labels = []\r\n",
        "    for filename in os.listdir(folder):\r\n",
        "        img = cv2.imread(os.path.join(folder,filename))\r\n",
        "        img= cv2.resize(img, (150,150))\r\n",
        "        if img is not None:\r\n",
        "            images.append(img)\r\n",
        "            if os.path.basename(folder) != 'covid':\r\n",
        "              labels.append(0)\r\n",
        "            elif os.path.basename(folder) == 'covid':\r\n",
        "              labels.append(1)\r\n",
        "    return images, labels"
      ],
      "execution_count": null,
      "outputs": []
    },
    {
      "cell_type": "code",
      "metadata": {
        "colab": {
          "base_uri": "https://localhost:8080/"
        },
        "id": "gTaL4WEqu7oJ",
        "outputId": "526d564a-8408-4047-843d-0f9abf45f581"
      },
      "source": [
        "train_pos = \"/content/data_upload_v3/train/covid\"\r\n",
        "train_neg = \"/content/data_upload_v3/train/non\"\r\n",
        "\r\n",
        "img_train_pos, label_train_pos = load_images_from_folder(train_pos)\r\n",
        "img_train_neg, label_train_neg = load_images_from_folder(train_neg)\r\n",
        "\r\n",
        "print (\"Number of Training Images (Positive):   \", len(img_train_pos))\r\n",
        "print (\"Number of Training Images (Negative):   \", len(img_train_neg))"
      ],
      "execution_count": null,
      "outputs": [
        {
          "output_type": "stream",
          "text": [
            "Loading from folder:  covid\n",
            "Loading from folder:  non\n",
            "Number of Training Images (Positive):    84\n",
            "Number of Training Images (Negative):    2000\n"
          ],
          "name": "stdout"
        }
      ]
    },
    {
      "cell_type": "code",
      "metadata": {
        "colab": {
          "base_uri": "https://localhost:8080/"
        },
        "id": "3SKeTGqwgaA6",
        "outputId": "a1edfe01-ce1f-4538-9cfe-080adfeddb0d"
      },
      "source": [
        "img_train_neg[12].shape\r\n"
      ],
      "execution_count": null,
      "outputs": [
        {
          "output_type": "execute_result",
          "data": {
            "text/plain": [
              "(150, 150, 3)"
            ]
          },
          "metadata": {
            "tags": []
          },
          "execution_count": 9
        }
      ]
    },
    {
      "cell_type": "markdown",
      "metadata": {
        "id": "3EPc9ZIAwnpg"
      },
      "source": [
        "Train and Test Data has been loaded into the memory uptil now"
      ]
    },
    {
      "cell_type": "code",
      "metadata": {
        "colab": {
          "resources": {
            "http://localhost:8080/nbextensions/google.colab/files.js": {
              "data": "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",
              "ok": true,
              "headers": [
                [
                  "content-type",
                  "application/javascript"
                ]
              ],
              "status": 200,
              "status_text": ""
            }
          },
          "base_uri": "https://localhost:8080/",
          "height": 89
        },
        "id": "jnGjQZrQvsIH",
        "outputId": "96f02371-0d2a-4f0a-81bf-e10c70fad637"
      },
      "source": [
        "from google.colab import files\r\n",
        "files.upload()"
      ],
      "execution_count": null,
      "outputs": [
        {
          "output_type": "display_data",
          "data": {
            "text/html": [
              "\n",
              "     <input type=\"file\" id=\"files-ea9e0366-a6ae-4681-825b-ced52e5ee45d\" name=\"files[]\" multiple disabled\n",
              "        style=\"border:none\" />\n",
              "     <output id=\"result-ea9e0366-a6ae-4681-825b-ced52e5ee45d\">\n",
              "      Upload widget is only available when the cell has been executed in the\n",
              "      current browser session. Please rerun this cell to enable.\n",
              "      </output>\n",
              "      <script src=\"/nbextensions/google.colab/files.js\"></script> "
            ],
            "text/plain": [
              "<IPython.core.display.HTML object>"
            ]
          },
          "metadata": {
            "tags": []
          }
        },
        {
          "output_type": "stream",
          "text": [
            "Saving kaggle.json to kaggle.json\n"
          ],
          "name": "stdout"
        },
        {
          "output_type": "execute_result",
          "data": {
            "text/plain": [
              "{'kaggle.json': b'{\"username\":\"usamanadeem321\",\"key\":\"b1721c990253ea4db5edb1e6a07c69c4\"}'}"
            ]
          },
          "metadata": {
            "tags": []
          },
          "execution_count": 10
        }
      ]
    },
    {
      "cell_type": "code",
      "metadata": {
        "id": "xci-WYCFv3ju"
      },
      "source": [
        "!mkdir ~/.kaggle\r\n",
        "!cp kaggle.json ~/.kaggle"
      ],
      "execution_count": null,
      "outputs": []
    },
    {
      "cell_type": "code",
      "metadata": {
        "colab": {
          "base_uri": "https://localhost:8080/"
        },
        "id": "W0M_lEGUwR-m",
        "outputId": "b1f21a66-902c-456c-aea1-d7b5fc000d67"
      },
      "source": [
        "!kaggle datasets download -d nabeelsajid917/covid-19-x-ray-10000-images"
      ],
      "execution_count": null,
      "outputs": [
        {
          "output_type": "stream",
          "text": [
            "Warning: Your Kaggle API key is readable by other users on this system! To fix this, you can run 'chmod 600 /root/.kaggle/kaggle.json'\n",
            "Downloading covid-19-x-ray-10000-images.zip to /content\n",
            " 96% 89.0M/92.7M [00:05<00:00, 17.7MB/s]\n",
            "100% 92.7M/92.7M [00:05<00:00, 18.2MB/s]\n"
          ],
          "name": "stdout"
        }
      ]
    },
    {
      "cell_type": "code",
      "metadata": {
        "colab": {
          "base_uri": "https://localhost:8080/"
        },
        "id": "o48FIyg2wWmO",
        "outputId": "8ef472ab-cfdd-413f-ca83-4d23fe1925c8"
      },
      "source": [
        "!ls"
      ],
      "execution_count": null,
      "outputs": [
        {
          "output_type": "stream",
          "text": [
            "covid-19-x-ray-10000-images.zip  data_upload_v3.zip  sample_data\n",
            "data_upload_v3\t\t\t kaggle.json\n"
          ],
          "name": "stdout"
        }
      ]
    },
    {
      "cell_type": "code",
      "metadata": {
        "id": "hhxNbVwqwlz1"
      },
      "source": [
        "!unzip covid-19-x-ray-10000-images.zip"
      ],
      "execution_count": null,
      "outputs": []
    },
    {
      "cell_type": "code",
      "metadata": {
        "id": "bFPnBlQnwuU2"
      },
      "source": [
        "def load_kaggle_dataset(folder):\r\n",
        "    print(\"Loading from folder: \", os.path.basename(folder))\r\n",
        "    images = []\r\n",
        "    labels = []\r\n",
        "    for filename in os.listdir(folder):\r\n",
        "        img = cv2.imread(os.path.join(folder,filename))\r\n",
        "        img= cv2.resize(img, (150,150))\r\n",
        "        if img is not None:\r\n",
        "            images.append(img)\r\n",
        "            if os.path.basename(folder) == 'normal':\r\n",
        "              labels.append(0)\r\n",
        "            elif os.path.basename(folder) == 'covid':\r\n",
        "              labels.append(1)\r\n",
        "    return images, labels"
      ],
      "execution_count": null,
      "outputs": []
    },
    {
      "cell_type": "code",
      "metadata": {
        "colab": {
          "base_uri": "https://localhost:8080/"
        },
        "id": "zApOAUnjzOWo",
        "outputId": "af498348-50bd-4df7-b5ae-84a62d2581fb"
      },
      "source": [
        "K_train_pos = \"/content/dataset/covid\"\r\n",
        "K_train_neg = \"/content/dataset/normal\"\r\n",
        "\r\n",
        "K_img_train_pos, K_label_train_pos = load_kaggle_dataset(K_train_pos)\r\n",
        "K_img_train_neg, K_label_train_neg = load_kaggle_dataset(K_train_neg)\r\n",
        "\r\n",
        "print (\"Number of Training Images (Positive):   \", len(K_img_train_pos))\r\n",
        "print (\"Number of Training Images (Negative):   \", len(K_img_train_neg))"
      ],
      "execution_count": null,
      "outputs": [
        {
          "output_type": "stream",
          "text": [
            "Loading from folder:  covid\n",
            "Loading from folder:  normal\n",
            "Number of Training Images (Positive):    70\n",
            "Number of Training Images (Negative):    28\n"
          ],
          "name": "stdout"
        }
      ]
    },
    {
      "cell_type": "code",
      "metadata": {
        "colab": {
          "base_uri": "https://localhost:8080/"
        },
        "id": "tBW9nXMx0OZ3",
        "outputId": "69b0c853-0465-4368-ae3a-4112c9506a2a"
      },
      "source": [
        "#join kaggle andd dropbox dataset\r\n",
        "Training_Images_pos=img_train_pos+K_img_train_pos\r\n",
        "Training_Images_neg=img_train_neg+K_img_train_neg\r\n",
        "Training_Labels_pos=label_train_pos+K_label_train_pos \r\n",
        "Training_Labels_neg=label_train_neg+K_label_train_neg \r\n",
        "\r\n",
        "#join positive and negative training examples into single list \r\n",
        "total_training_img= Training_Images_pos+ Training_Images_neg\r\n",
        "total_training_labels=Training_Labels_pos+Training_Labels_neg\r\n",
        "\r\n",
        "print(len(total_training_img) )\r\n",
        "print(len(total_training_labels) )"
      ],
      "execution_count": null,
      "outputs": [
        {
          "output_type": "stream",
          "text": [
            "2182\n",
            "2182\n"
          ],
          "name": "stdout"
        }
      ]
    },
    {
      "cell_type": "code",
      "metadata": {
        "id": "X9LbK3_I12aa"
      },
      "source": [
        "(X_train, X_valid, Y_train, Y_valid)= train_test_split(total_training_img, total_training_labels, test_size=0.1, random_state=20)"
      ],
      "execution_count": null,
      "outputs": []
    },
    {
      "cell_type": "code",
      "metadata": {
        "id": "zkQ5nTIE5X4G"
      },
      "source": [
        "import keras\r\n",
        "from keras.layers import Conv2D, Dense, MaxPooling2D, Flatten, Dropout\r\n",
        "from keras.models import Sequential\r\n",
        "\r\n",
        "\r\n",
        "vgg16 = Sequential()\r\n",
        "vgg16.add(Conv2D(64, kernel_size=3, padding='same', activation='relu',\r\n",
        "                 input_shape=(150, 150, 3)))\r\n",
        "vgg16.add(Conv2D(64, kernel_size=3, padding='same', activation='relu'))\r\n",
        "vgg16.add(MaxPooling2D(pool_size=2, strides=2))\r\n",
        "vgg16.add(Dropout(0.25))\r\n",
        "\r\n",
        "vgg16.add(Conv2D(128, kernel_size=3, padding='same', activation='relu'))\r\n",
        "vgg16.add(Conv2D(128, kernel_size=3, padding='same', activation='relu'))\r\n",
        "vgg16.add(MaxPooling2D(pool_size=2, strides=2))\r\n",
        "vgg16.add(Dropout(0.25))\r\n",
        "\r\n",
        "vgg16.add(Conv2D(256, kernel_size=3, padding='same', activation='relu'))\r\n",
        "vgg16.add(Conv2D(256, kernel_size=3, padding='same', activation='relu'))\r\n",
        "vgg16.add(Conv2D(256, kernel_size=3, padding='same', activation='relu'))\r\n",
        "vgg16.add(MaxPooling2D(pool_size=2, strides=2))\r\n",
        "vgg16.add(Dropout(0.25))\r\n",
        "\r\n",
        "vgg16.add(Conv2D(512, kernel_size=3, padding='same', activation='relu'))\r\n",
        "vgg16.add(Conv2D(512, kernel_size=3, padding='same', activation='relu'))\r\n",
        "vgg16.add(Conv2D(512, kernel_size=3, padding='same', activation='relu'))\r\n",
        "vgg16.add(MaxPooling2D(pool_size=2, strides=2))\r\n",
        "vgg16.add(Dropout(0.25))\r\n",
        "\r\n",
        "vgg16.add(Conv2D(512, kernel_size=3, activation='relu'))\r\n",
        "vgg16.add(Conv2D(512, kernel_size=3, activation='relu'))\r\n",
        "vgg16.add(Conv2D(512, kernel_size=3, activation='relu'))\r\n",
        "vgg16.add(MaxPooling2D(pool_size=2, strides=2))\r\n",
        "vgg16.add(Dropout(0.25))\r\n",
        "\r\n",
        "vgg16.add(Flatten())\r\n",
        "\r\n",
        "vgg16.add(Dense(4096, activation='relu'))\r\n",
        "vgg16.add(Dense(4096, activation='relu'))\r\n",
        "vgg16.add(Dense(4096, activation='relu'))\r\n",
        "\r\n",
        "# the data we are using has 2 classes\r\n",
        "vgg16.add(Dense(2))\r\n",
        "vgg16.add(Activation ('softmax'))\r\n",
        "#vgg16.add(Dense(1, activation='softmax'))\r\n"
      ],
      "execution_count": null,
      "outputs": []
    },
    {
      "cell_type": "code",
      "metadata": {
        "colab": {
          "base_uri": "https://localhost:8080/"
        },
        "id": "Aar8aTMEAiSW",
        "outputId": "a41fe57b-20ef-4b01-d5a5-6c214d0bfc35"
      },
      "source": [
        "opt = SGD(lr=0.01)\r\n",
        "vgg16.compile(loss = \"sparse_categorical_crossentropy\", optimizer = 'SGD', metrics = ['accuracy'])\r\n",
        "\r\n",
        "#vgg16.compile(loss = 'sparse_categorical_crossentropy', optimizer = opt,     metrics = ['accuracy'])\r\n",
        "vgg16.summary()"
      ],
      "execution_count": null,
      "outputs": [
        {
          "output_type": "stream",
          "text": [
            "Model: \"sequential_3\"\n",
            "_________________________________________________________________\n",
            "Layer (type)                 Output Shape              Param #   \n",
            "=================================================================\n",
            "conv2d_39 (Conv2D)           (None, 150, 150, 64)      1792      \n",
            "_________________________________________________________________\n",
            "conv2d_40 (Conv2D)           (None, 150, 150, 64)      36928     \n",
            "_________________________________________________________________\n",
            "max_pooling2d_15 (MaxPooling (None, 75, 75, 64)        0         \n",
            "_________________________________________________________________\n",
            "dropout_15 (Dropout)         (None, 75, 75, 64)        0         \n",
            "_________________________________________________________________\n",
            "conv2d_41 (Conv2D)           (None, 75, 75, 128)       73856     \n",
            "_________________________________________________________________\n",
            "conv2d_42 (Conv2D)           (None, 75, 75, 128)       147584    \n",
            "_________________________________________________________________\n",
            "max_pooling2d_16 (MaxPooling (None, 37, 37, 128)       0         \n",
            "_________________________________________________________________\n",
            "dropout_16 (Dropout)         (None, 37, 37, 128)       0         \n",
            "_________________________________________________________________\n",
            "conv2d_43 (Conv2D)           (None, 37, 37, 256)       295168    \n",
            "_________________________________________________________________\n",
            "conv2d_44 (Conv2D)           (None, 37, 37, 256)       590080    \n",
            "_________________________________________________________________\n",
            "conv2d_45 (Conv2D)           (None, 37, 37, 256)       590080    \n",
            "_________________________________________________________________\n",
            "max_pooling2d_17 (MaxPooling (None, 18, 18, 256)       0         \n",
            "_________________________________________________________________\n",
            "dropout_17 (Dropout)         (None, 18, 18, 256)       0         \n",
            "_________________________________________________________________\n",
            "conv2d_46 (Conv2D)           (None, 18, 18, 512)       1180160   \n",
            "_________________________________________________________________\n",
            "conv2d_47 (Conv2D)           (None, 18, 18, 512)       2359808   \n",
            "_________________________________________________________________\n",
            "conv2d_48 (Conv2D)           (None, 18, 18, 512)       2359808   \n",
            "_________________________________________________________________\n",
            "max_pooling2d_18 (MaxPooling (None, 9, 9, 512)         0         \n",
            "_________________________________________________________________\n",
            "dropout_18 (Dropout)         (None, 9, 9, 512)         0         \n",
            "_________________________________________________________________\n",
            "conv2d_49 (Conv2D)           (None, 7, 7, 512)         2359808   \n",
            "_________________________________________________________________\n",
            "conv2d_50 (Conv2D)           (None, 5, 5, 512)         2359808   \n",
            "_________________________________________________________________\n",
            "conv2d_51 (Conv2D)           (None, 3, 3, 512)         2359808   \n",
            "_________________________________________________________________\n",
            "max_pooling2d_19 (MaxPooling (None, 1, 1, 512)         0         \n",
            "_________________________________________________________________\n",
            "dropout_19 (Dropout)         (None, 1, 1, 512)         0         \n",
            "_________________________________________________________________\n",
            "flatten_3 (Flatten)          (None, 512)               0         \n",
            "_________________________________________________________________\n",
            "dense_12 (Dense)             (None, 4096)              2101248   \n",
            "_________________________________________________________________\n",
            "dense_13 (Dense)             (None, 4096)              16781312  \n",
            "_________________________________________________________________\n",
            "dense_14 (Dense)             (None, 4096)              16781312  \n",
            "_________________________________________________________________\n",
            "dense_15 (Dense)             (None, 2)                 8194      \n",
            "_________________________________________________________________\n",
            "activation_3 (Activation)    (None, 2)                 0         \n",
            "=================================================================\n",
            "Total params: 50,386,754\n",
            "Trainable params: 50,386,754\n",
            "Non-trainable params: 0\n",
            "_________________________________________________________________\n"
          ],
          "name": "stdout"
        }
      ]
    },
    {
      "cell_type": "code",
      "metadata": {
        "id": "DhnktZHW_85Y"
      },
      "source": [
        "X_train= np.asarray(X_train)\r\n",
        "#Y_train= np.asarray(Y_train)\r\n",
        "Y_train= np.asarray(Y_train).astype('float32').reshape((-1,1))\r\n",
        "X_valid= np.asarray(X_valid)\r\n",
        "#Y_valid= np.asarray(Y_valid)\r\n",
        "Y_valid= np.asarray(Y_valid).astype('float32').reshape((-1,1))\r\n",
        "\r\n"
      ],
      "execution_count": null,
      "outputs": []
    },
    {
      "cell_type": "code",
      "metadata": {
        "colab": {
          "base_uri": "https://localhost:8080/"
        },
        "id": "E00QYYgTcn4U",
        "outputId": "31e9b399-2885-4821-dabc-20f61f7daa8a"
      },
      "source": [
        "print(X_train.shape)\r\n",
        "print(Y_train.shape)\r\n",
        "print(X_valid.shape)\r\n",
        "print(Y_valid.shape)"
      ],
      "execution_count": null,
      "outputs": [
        {
          "output_type": "stream",
          "text": [
            "(1963, 150, 150, 3)\n",
            "(1963, 1)\n",
            "(219, 150, 150, 3)\n",
            "(219, 1)\n"
          ],
          "name": "stdout"
        }
      ]
    },
    {
      "cell_type": "markdown",
      "metadata": {
        "id": "CyxbtwN85cdx"
      },
      "source": [
        "Applying Augmentation"
      ]
    },
    {
      "cell_type": "code",
      "metadata": {
        "colab": {
          "base_uri": "https://localhost:8080/"
        },
        "id": "idVKK8644Jgj",
        "outputId": "a87e66ad-66c2-49e2-933d-ad9978928c41"
      },
      "source": [
        "# Generates batches of image data with data augmentation\r\n",
        "datagen = ImageDataGenerator(rotation_range=360, # Degree range for random rotations\r\n",
        "                        width_shift_range=0.2, # Range for random horizontal shifts\r\n",
        "                        height_shift_range=0.2, # Range for random vertical shifts\r\n",
        "                        zoom_range=0.2, # Range for random zoom\r\n",
        "                        horizontal_flip=True, # Randomly flip inputs horizontally\r\n",
        "                        vertical_flip=True) # Randomly flip inputs vertically\r\n",
        "\r\n",
        "datagen.fit(X_train)\r\n",
        "# Fits the model on batches with real-time data augmentation\r\n",
        "\r\n",
        "\r\n",
        "trained = vgg16.fit(datagen.flow(X_train, Y_train, batch_size=32), epochs=15, verbose=2,validation_data=(X_valid, Y_valid))"
      ],
      "execution_count": null,
      "outputs": [
        {
          "output_type": "stream",
          "text": [
            "Epoch 1/15\n",
            "62/62 - 28s - loss: 0.2871 - accuracy: 0.9837 - val_loss: 0.5760 - val_accuracy: 1.0000\n",
            "Epoch 2/15\n",
            "62/62 - 27s - loss: 0.2612 - accuracy: 1.0000 - val_loss: 0.4965 - val_accuracy: 1.0000\n",
            "Epoch 3/15\n",
            "62/62 - 27s - loss: 0.2619 - accuracy: 1.0000 - val_loss: 0.4411 - val_accuracy: 1.0000\n",
            "Epoch 4/15\n",
            "62/62 - 27s - loss: 0.2604 - accuracy: 1.0000 - val_loss: 0.5309 - val_accuracy: 1.0000\n",
            "Epoch 5/15\n",
            "62/62 - 27s - loss: 0.2513 - accuracy: 1.0000 - val_loss: 0.4731 - val_accuracy: 1.0000\n",
            "Epoch 6/15\n",
            "62/62 - 27s - loss: 0.2536 - accuracy: 1.0000 - val_loss: 0.5253 - val_accuracy: 1.0000\n",
            "Epoch 7/15\n",
            "62/62 - 27s - loss: 0.2430 - accuracy: 1.0000 - val_loss: 0.4791 - val_accuracy: 1.0000\n",
            "Epoch 8/15\n",
            "62/62 - 27s - loss: 0.2331 - accuracy: 1.0000 - val_loss: 0.3961 - val_accuracy: 1.0000\n",
            "Epoch 9/15\n",
            "62/62 - 27s - loss: 0.2269 - accuracy: 1.0000 - val_loss: 0.4377 - val_accuracy: 1.0000\n",
            "Epoch 10/15\n",
            "62/62 - 27s - loss: 0.2213 - accuracy: 1.0000 - val_loss: 0.4290 - val_accuracy: 1.0000\n",
            "Epoch 11/15\n",
            "62/62 - 27s - loss: 0.2108 - accuracy: 1.0000 - val_loss: 0.3990 - val_accuracy: 1.0000\n",
            "Epoch 12/15\n",
            "62/62 - 27s - loss: 0.1912 - accuracy: 1.0000 - val_loss: 0.3283 - val_accuracy: 1.0000\n",
            "Epoch 13/15\n",
            "62/62 - 27s - loss: 0.1956 - accuracy: 1.0000 - val_loss: 0.2852 - val_accuracy: 1.0000\n",
            "Epoch 14/15\n",
            "62/62 - 27s - loss: 0.1758 - accuracy: 1.0000 - val_loss: 0.2112 - val_accuracy: 1.0000\n",
            "Epoch 15/15\n",
            "62/62 - 27s - loss: 0.1761 - accuracy: 1.0000 - val_loss: 0.2374 - val_accuracy: 1.0000\n"
          ],
          "name": "stdout"
        }
      ]
    },
    {
      "cell_type": "code",
      "metadata": {
        "id": "NMGOA-dxAYnv"
      },
      "source": [
        "#trained_without_augmentation = vgg16.fit(X_train, Y_train, batch_size=64, epochs=20, validation_data=(X_valid, Y_valid))\r\n",
        "\r\n",
        "#save the model's trained weights\r\n",
        "vgg16.save_weights('vgg16_DataAugmentation.h5')"
      ],
      "execution_count": null,
      "outputs": []
    },
    {
      "cell_type": "code",
      "metadata": {
        "colab": {
          "base_uri": "https://localhost:8080/"
        },
        "id": "xwgBYhu_dxmr",
        "outputId": "ba32a7e7-631a-4bb0-d6c6-d1b0fbbc324f"
      },
      "source": [
        "#load test data\r\n",
        "test_pos = \"/content/data_upload_v3/test/covid\"\r\n",
        "test_neg = \"/content/data_upload_v3/test/non/No_Finding\"\r\n",
        "\r\n",
        "img_test_pos, label_test_pos = load_images_from_folder(test_pos)\r\n",
        "img_test_neg, label_test_neg = load_images_from_folder(test_neg)\r\n",
        "\r\n",
        "#join positive and negative training examples into single list \r\n",
        "total_test_img= img_test_pos+ img_test_neg\r\n",
        "total_test_labels=label_test_pos+label_test_neg\r\n",
        "\r\n",
        "print(len(total_test_img) )\r\n",
        "print(len(total_test_labels) )\r\n",
        "\r\n"
      ],
      "execution_count": null,
      "outputs": [
        {
          "output_type": "stream",
          "text": [
            "Loading from folder:  covid\n",
            "Loading from folder:  No_Finding\n",
            "1800\n",
            "1800\n"
          ],
          "name": "stdout"
        }
      ]
    },
    {
      "cell_type": "code",
      "metadata": {
        "colab": {
          "base_uri": "https://localhost:8080/"
        },
        "id": "witPmgout_6L",
        "outputId": "5a943237-b122-4a1e-a9e8-02fa10962fda"
      },
      "source": [
        "total_test_img= np.asarray(total_test_img)\r\n",
        "total_test_labels= np.asarray(total_test_labels)\r\n",
        "score = vgg16.evaluate(total_test_img, total_test_labels, batch_size=4)\r\n",
        "print('Test Loss = ', score[0])\r\n",
        "print('Test Accuracy = ', score[1])"
      ],
      "execution_count": null,
      "outputs": [
        {
          "output_type": "stream",
          "text": [
            "450/450 [==============================] - 19s 40ms/step - loss: 0.1887 - accuracy: 0.9917\n",
            "Test Loss =  0.1887371838092804\n",
            "Test Accuracy =  0.9916666746139526\n"
          ],
          "name": "stdout"
        }
      ]
    },
    {
      "cell_type": "code",
      "metadata": {
        "colab": {
          "base_uri": "https://localhost:8080/",
          "height": 299
        },
        "id": "RSZvsuuYycFl",
        "outputId": "d86386ff-0171-4750-9a98-d2237760bd66"
      },
      "source": [
        "'''LEARNING CURVE'''\r\n",
        "\r\n",
        "import matplotlib.pyplot as plt\r\n",
        "N = np.arange(0, 15)\r\n",
        "plt.style.use('ggplot')\r\n",
        "plt.figure()\r\n",
        "plt.plot(N, trained.history['loss'], label='train_loss')\r\n",
        "plt.plot(N, trained.history['val_loss'], label='val_loss')\r\n",
        "plt.plot(N, trained.history['accuracy'], label='train_accuracy')\r\n",
        "plt.plot(N, trained.history['val_accuracy'], label='val_accuracy')\r\n",
        "plt.title('Training loss and accuracy')\r\n",
        "plt.xlabel('Epoch #')\r\n",
        "plt.ylabel('Loss/Accuracy')\r\n",
        "plt.legend()\r\n",
        "plt.show()"
      ],
      "execution_count": null,
      "outputs": [
        {
          "output_type": "display_data",
          "data": {
            "image/png": "[encoded data removed]",
            "text/plain": [
              "<Figure size 432x288 with 1 Axes>"
            ]
          },
          "metadata": {
            "tags": []
          }
        }
      ]
    },
    {
      "cell_type": "code",
      "metadata": {
        "colab": {
          "base_uri": "https://localhost:8080/",
          "height": 299
        },
        "id": "CPH6R1WW87Mz",
        "outputId": "4f3b8832-b2de-4371-f2c2-7f1273cb7de1"
      },
      "source": [
        "plt.plot(trained.history['accuracy'])\r\n",
        "plt.plot(trained.history['val_accuracy'])\r\n",
        "plt.title('model accuracy')\r\n",
        "plt.ylabel('accuracy')\r\n",
        "plt.xlabel('epoch')\r\n",
        "plt.legend(['train', 'test'], loc='upper left')\r\n",
        "plt.show()"
      ],
      "execution_count": null,
      "outputs": [
        {
          "output_type": "display_data",
          "data": {
            "image/png": "[encoded data removed]",
            "text/plain": [
              "<Figure size 432x288 with 1 Axes>"
            ]
          },
          "metadata": {
            "tags": []
          }
        }
      ]
    },
    {
      "cell_type": "code",
      "metadata": {
        "colab": {
          "base_uri": "https://localhost:8080/",
          "height": 299
        },
        "id": "LY-kVwyr87rv",
        "outputId": "8634563f-65e0-4c24-9199-d766dd9f7143"
      },
      "source": [
        "plt.plot(trained.history['loss'])\r\n",
        "plt.plot(trained.history['val_loss'])\r\n",
        "plt.title('model loss')\r\n",
        "plt.ylabel('loss')\r\n",
        "plt.xlabel('epoch')\r\n",
        "plt.legend(['train', 'test'], loc='upper left')\r\n",
        "plt.show()"
      ],
      "execution_count": null,
      "outputs": [
        {
          "output_type": "display_data",
          "data": {
            "image/png": "[encoded data removed]",
            "text/plain": [
              "<Figure size 432x288 with 1 Axes>"
            ]
          },
          "metadata": {
            "tags": []
          }
        }
      ]
    }
  ]
}